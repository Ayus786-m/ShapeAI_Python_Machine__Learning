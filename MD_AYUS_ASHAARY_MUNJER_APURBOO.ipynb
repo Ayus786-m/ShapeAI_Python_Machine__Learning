{
  "nbformat": 4,
  "nbformat_minor": 0,
  "metadata": {
    "colab": {
      "name": "MD AYUS ASHAARY MUNJER APURBOO.ipynb",
      "provenance": []
    },
    "kernelspec": {
      "name": "python3",
      "display_name": "Python 3"
    },
    "language_info": {
      "name": "python"
    }
  },
  "cells": [
    {
      "cell_type": "code",
      "metadata": {
        "id": "emhVQZEwMRT3"
      },
      "source": [
        "import numpy as np\n",
        "import pandas as pd\n",
        "import sklearn"
      ],
      "execution_count": 1,
      "outputs": []
    },
    {
      "cell_type": "code",
      "metadata": {
        "id": "SnFJ1ZSmOPYo"
      },
      "source": [
        "from sklearn.datasets import load_boston\n",
        "df = load_boston()"
      ],
      "execution_count": 6,
      "outputs": []
    },
    {
      "cell_type": "code",
      "metadata": {
        "id": "WMwloQf9O5xu"
      },
      "source": [
        "type(df)"
      ],
      "execution_count": null,
      "outputs": []
    },
    {
      "cell_type": "code",
      "metadata": {
        "id": "81m17sRtPlbT"
      },
      "source": [
        "df.keys()"
      ],
      "execution_count": null,
      "outputs": []
    },
    {
      "cell_type": "code",
      "metadata": {
        "id": "-fb4t5g0P1Oj"
      },
      "source": [
        "print(df.DESCR) "
      ],
      "execution_count": null,
      "outputs": []
    },
    {
      "cell_type": "code",
      "metadata": {
        "id": "J3KjEQsUQVy9"
      },
      "source": [
        "print(df.filename) "
      ],
      "execution_count": null,
      "outputs": []
    },
    {
      "cell_type": "code",
      "metadata": {
        "id": "feXGzGXBQmzZ"
      },
      "source": [
        "print(df.feature_names) "
      ],
      "execution_count": null,
      "outputs": []
    },
    {
      "cell_type": "code",
      "metadata": {
        "id": "VcgtfLTkQpzx"
      },
      "source": [
        "print(df.target) "
      ],
      "execution_count": null,
      "outputs": []
    },
    {
      "cell_type": "code",
      "metadata": {
        "id": "oViMpqTbQ1ma"
      },
      "source": [
        "print(df.data) "
      ],
      "execution_count": null,
      "outputs": []
    },
    {
      "cell_type": "code",
      "metadata": {
        "id": "CF6ivzyoQ66H"
      },
      "source": [
        "boston=pd.DataFrame(df.data, columns=df.feature_names)\n",
        "boston.head()"
      ],
      "execution_count": null,
      "outputs": []
    },
    {
      "cell_type": "code",
      "metadata": {
        "id": "_-YMn_CXRtzA"
      },
      "source": [
        "boston['MEDV']=df.target\n",
        "boston.head()"
      ],
      "execution_count": null,
      "outputs": []
    },
    {
      "cell_type": "code",
      "metadata": {
        "id": "qLhYoffcSSBT"
      },
      "source": [
        "boston.isnull()"
      ],
      "execution_count": null,
      "outputs": []
    },
    {
      "cell_type": "code",
      "metadata": {
        "id": "3UUMAH3hSiuN"
      },
      "source": [
        "boston.isnull().sum()"
      ],
      "execution_count": null,
      "outputs": []
    },
    {
      "cell_type": "code",
      "metadata": {
        "id": "fyvDRXr0S5ci"
      },
      "source": [
        "from sklearn.model_selection import train_test_split\n",
        "X=boston.drop('MEDV',axis=1)\n",
        "Y=boston['MEDV']\n",
        "X_train, X_test, Y_train, Y_test= train_test_split(X,Y, test_size=0.15,random_state=5)\n",
        "print(X_train.shape)\n",
        "print(X_test.shape)\n",
        "print(Y_train.shape)\n",
        "print(Y_test.shape)"
      ],
      "execution_count": null,
      "outputs": []
    },
    {
      "cell_type": "code",
      "metadata": {
        "id": "Ic31OoY_T9Re"
      },
      "source": [
        "from sklearn.linear_model import LinearRegression\n",
        "from sklearn.metrics import mean_squared_error"
      ],
      "execution_count": 27,
      "outputs": []
    },
    {
      "cell_type": "code",
      "metadata": {
        "colab": {
          "base_uri": "https://localhost:8080/"
        },
        "id": "TCUiEpOqVzud",
        "outputId": "5beff83c-fc1f-4316-fba3-9a1e0c04469e"
      },
      "source": [
        "\n",
        "lin_model=LinearRegression()\n",
        "lin_model.fit(X_train, Y_train)"
      ],
      "execution_count": 28,
      "outputs": [
        {
          "output_type": "execute_result",
          "data": {
            "text/plain": [
              "LinearRegression(copy_X=True, fit_intercept=True, n_jobs=None, normalize=False)"
            ]
          },
          "metadata": {
            "tags": []
          },
          "execution_count": 28
        }
      ]
    },
    {
      "cell_type": "code",
      "metadata": {
        "id": "m8RunblcWPTI"
      },
      "source": [
        "y_train_predict=lin_model.predict (X_train) \n",
        "rmse= (np.sqrt(mean_squared_error(Y_train, y_train_predict))) \n",
        "\n",
        "print(\"The model performance for training set\") \n",
        "print( 'RMSE is {}'.format(rmse))\n",
        "print(\"\\n\") \n",
        "\n",
        "\n",
        "y_test_predict= lin_model.predict(X_test) \n",
        "rmse=(np.sqrt(mean_squared_error(Y_test, y_test_predict))) \n",
        "\n",
        "print(\"The model performance for testing set\") \n",
        "print('RMSE is {}'.format (rmse))"
      ],
      "execution_count": null,
      "outputs": []
    }
  ]
}